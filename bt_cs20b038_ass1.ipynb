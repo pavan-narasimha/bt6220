{
 "cells": [
  {
   "cell_type": "markdown",
   "id": "a20c5142",
   "metadata": {},
   "source": [
    "BT6220 | JULY-NOV 2022 | QUIZ I | 20 MARKS<br>\n",
    "Consider the given dataset on the trajectory of Michaelis-Menten kinetics over (S, tau) space. \n",
    "Preliminary investigation suggests the probable range of epsilon, eta and kappa over (0, 1). Find out \n",
    "these values over xx.xx accuracy level (3 X 4 = 12). Upon obtaining these parameters, find out the steady \n",
    "state tau, S, P and X (4 X 2 = 8 marks)"
   ]
  },
  {
   "cell_type": "code",
   "execution_count": 1,
   "id": "13679bbc",
   "metadata": {},
   "outputs": [],
   "source": [
    "import pandas as pd\n",
    "import numpy as np\n",
    "import matplotlib.pyplot as plt\n",
    "\n",
    "df_53 = pd.read_csv(\"C:/Users/HP/Downloads/data.txt\",sep=',',names = [\"tau\",\"s\"])\n",
    "\n"
   ]
  },
  {
   "cell_type": "code",
   "execution_count": 2,
   "id": "9e4f48dd",
   "metadata": {},
   "outputs": [
    {
     "data": {
      "text/html": [
       "<div>\n",
       "<style scoped>\n",
       "    .dataframe tbody tr th:only-of-type {\n",
       "        vertical-align: middle;\n",
       "    }\n",
       "\n",
       "    .dataframe tbody tr th {\n",
       "        vertical-align: top;\n",
       "    }\n",
       "\n",
       "    .dataframe thead th {\n",
       "        text-align: right;\n",
       "    }\n",
       "</style>\n",
       "<table border=\"1\" class=\"dataframe\">\n",
       "  <thead>\n",
       "    <tr style=\"text-align: right;\">\n",
       "      <th></th>\n",
       "      <th>tau</th>\n",
       "      <th>s</th>\n",
       "    </tr>\n",
       "  </thead>\n",
       "  <tbody>\n",
       "    <tr>\n",
       "      <th>0</th>\n",
       "      <td>0.0</td>\n",
       "      <td>1.000000</td>\n",
       "    </tr>\n",
       "    <tr>\n",
       "      <th>1</th>\n",
       "      <td>0.1</td>\n",
       "      <td>0.956943</td>\n",
       "    </tr>\n",
       "    <tr>\n",
       "      <th>2</th>\n",
       "      <td>0.2</td>\n",
       "      <td>0.934027</td>\n",
       "    </tr>\n",
       "    <tr>\n",
       "      <th>3</th>\n",
       "      <td>0.3</td>\n",
       "      <td>0.919689</td>\n",
       "    </tr>\n",
       "    <tr>\n",
       "      <th>4</th>\n",
       "      <td>0.4</td>\n",
       "      <td>0.909253</td>\n",
       "    </tr>\n",
       "    <tr>\n",
       "      <th>...</th>\n",
       "      <td>...</td>\n",
       "      <td>...</td>\n",
       "    </tr>\n",
       "    <tr>\n",
       "      <th>95</th>\n",
       "      <td>9.5</td>\n",
       "      <td>0.382155</td>\n",
       "    </tr>\n",
       "    <tr>\n",
       "      <th>96</th>\n",
       "      <td>9.6</td>\n",
       "      <td>0.377759</td>\n",
       "    </tr>\n",
       "    <tr>\n",
       "      <th>97</th>\n",
       "      <td>9.7</td>\n",
       "      <td>0.373396</td>\n",
       "    </tr>\n",
       "    <tr>\n",
       "      <th>98</th>\n",
       "      <td>9.8</td>\n",
       "      <td>0.369065</td>\n",
       "    </tr>\n",
       "    <tr>\n",
       "      <th>99</th>\n",
       "      <td>9.9</td>\n",
       "      <td>0.364766</td>\n",
       "    </tr>\n",
       "  </tbody>\n",
       "</table>\n",
       "<p>100 rows × 2 columns</p>\n",
       "</div>"
      ],
      "text/plain": [
       "    tau         s\n",
       "0   0.0  1.000000\n",
       "1   0.1  0.956943\n",
       "2   0.2  0.934027\n",
       "3   0.3  0.919689\n",
       "4   0.4  0.909253\n",
       "..  ...       ...\n",
       "95  9.5  0.382155\n",
       "96  9.6  0.377759\n",
       "97  9.7  0.373396\n",
       "98  9.8  0.369065\n",
       "99  9.9  0.364766\n",
       "\n",
       "[100 rows x 2 columns]"
      ]
     },
     "execution_count": 2,
     "metadata": {},
     "output_type": "execute_result"
    }
   ],
   "source": [
    "df_53"
   ]
  },
  {
   "cell_type": "code",
   "execution_count": 3,
   "id": "65736dd5",
   "metadata": {},
   "outputs": [],
   "source": [
    "def michaelis_menten_kinetics(eta,kappa,eps,delt,tott):\n",
    "    X0,P0,tau = 0,0,0\n",
    "    trs = int(tott/delt)\n",
    "    out = np.zeros((trs,6))\n",
    "\n",
    "    Xtau,Ptau,Stau,Etau,Vtau = X0,P0,1.0,1.0,0\n",
    "    i = 0\n",
    "    \n",
    "    while (i < trs):\n",
    "        out[i,0:6] = [tau,Xtau,Ptau,Stau,Etau,Vtau]\n",
    "        Xtau = Xtau + delt * ((1-Xtau)*(1-eps*Xtau-Ptau)-(eta+kappa)*Xtau)\n",
    "        Ptau = Ptau + delt*eps*Xtau\n",
    "        Etau = 1-Xtau\n",
    "        Stau = 1-eps*Xtau-Ptau\n",
    "        Vtau = eps*Xtau\n",
    "        tau = tau + delt\n",
    "        i = i+1\n",
    "    \n",
    "    #plt.plot(out[:,0],out[:,1:6])\n",
    "    \n",
    "    dxdt = np.diff(out[:,1])/np.diff(out[:,0])\n",
    "    return (out,dxdt)"
   ]
  },
  {
   "cell_type": "code",
   "execution_count": 4,
   "id": "ac97186e",
   "metadata": {},
   "outputs": [
    {
     "data": {
      "text/plain": [
       "[<matplotlib.lines.Line2D at 0x1a411d0baf0>,\n",
       " <matplotlib.lines.Line2D at 0x1a411d0b9a0>,\n",
       " <matplotlib.lines.Line2D at 0x1a411d30c40>,\n",
       " <matplotlib.lines.Line2D at 0x1a411d30d60>,\n",
       " <matplotlib.lines.Line2D at 0x1a411d30e80>]"
      ]
     },
     "execution_count": 4,
     "metadata": {},
     "output_type": "execute_result"
    },
    {
     "data": {
      "image/png": "[encoded data removed]",
      "text/plain": [
       "<Figure size 432x288 with 1 Axes>"
      ]
     },
     "metadata": {
      "needs_background": "light"
     },
     "output_type": "display_data"
    }
   ],
   "source": [
    "eta = 0.5 \n",
    "kappa = 0.4 \n",
    "eps = 0.8 \n",
    "delt = 0.01\n",
    "tott = 10\n",
    "res,dxdt = michaelis_menten_kinetics(eta,kappa,eps,delt,tott)\n",
    "plt.plot(res[:,0],res[:,1:6])"
   ]
  },
  {
   "cell_type": "code",
   "execution_count": 5,
   "id": "5b4d8143",
   "metadata": {},
   "outputs": [
    {
     "data": {
      "text/plain": [
       "[<matplotlib.lines.Line2D at 0x1a411d31b40>]"
      ]
     },
     "execution_count": 5,
     "metadata": {},
     "output_type": "execute_result"
    },
    {
     "data": {
      "image/png": "[encoded data removed]",
      "text/plain": [
       "<Figure size 432x288 with 1 Axes>"
      ]
     },
     "metadata": {
      "needs_background": "light"
     },
     "output_type": "display_data"
    }
   ],
   "source": [
    "plt.plot(res[:,0],res[:,3])"
   ]
  },
  {
   "cell_type": "code",
   "execution_count": 6,
   "id": "ace3f58e",
   "metadata": {},
   "outputs": [
    {
     "data": {
      "text/plain": [
       "<matplotlib.collections.PathCollection at 0x1a413ead360>"
      ]
     },
     "execution_count": 6,
     "metadata": {},
     "output_type": "execute_result"
    },
    {
     "data": {
      "image/png": "[encoded data removed]",
      "text/plain": [
       "<Figure size 432x288 with 1 Axes>"
      ]
     },
     "metadata": {
      "needs_background": "light"
     },
     "output_type": "display_data"
    }
   ],
   "source": [
    "plt.scatter(df_53[\"tau\"],df_53[\"s\"],s=5)"
   ]
  },
  {
   "cell_type": "code",
   "execution_count": 7,
   "id": "5e6033c6",
   "metadata": {},
   "outputs": [],
   "source": [
    "error = 5\n",
    "delt = 0.1\n",
    "tott = 10\n",
    "\n",
    "while (abs(error)>0.45):\n",
    "    eta = np.random.uniform()\n",
    "    kappa = np.random.uniform()\n",
    "    eps = np.random.uniform()\n",
    "    res,dxdt = michaelis_menten_kinetics(eta,kappa,eps,delt,tott)\n",
    "    error = sum(np.absolute(res[:,3]-df_53[\"s\"]))\n",
    "\n",
    "    \n",
    "    "
   ]
  },
  {
   "cell_type": "code",
   "execution_count": 8,
   "id": "28928667",
   "metadata": {},
   "outputs": [
    {
     "data": {
      "text/plain": [
       "(0.9138529927973043, 0.514579906561321, 0.19906022808485635, 0.428367482052122)"
      ]
     },
     "execution_count": 8,
     "metadata": {},
     "output_type": "execute_result"
    }
   ],
   "source": [
    "eta,kappa,eps,error"
   ]
  },
  {
   "cell_type": "code",
   "execution_count": 9,
   "id": "67655970",
   "metadata": {},
   "outputs": [
    {
     "data": {
      "text/plain": [
       "[<matplotlib.lines.Line2D at 0x1a414ef8be0>]"
      ]
     },
     "execution_count": 9,
     "metadata": {},
     "output_type": "execute_result"
    },
    {
     "data": {
      "image/png": "[encoded data removed]",
      "text/plain": [
       "<Figure size 432x288 with 1 Axes>"
      ]
     },
     "metadata": {
      "needs_background": "light"
     },
     "output_type": "display_data"
    }
   ],
   "source": [
    "plt.plot(res[:,0],res[:,3])\n",
    "plt.plot(df_53[\"tau\"],df_53[\"s\"])"
   ]
  },
  {
   "cell_type": "code",
   "execution_count": 10,
   "id": "2944a972",
   "metadata": {},
   "outputs": [
    {
     "data": {
      "text/plain": [
       "(0.91, 0.51, 0.2, 0.43)"
      ]
     },
     "execution_count": 10,
     "metadata": {},
     "output_type": "execute_result"
    }
   ],
   "source": [
    "eta1,kappa1,eps1,error1 = np.round([eta,kappa,eps,error],2)\n",
    "eta1,kappa1,eps1,error1"
   ]
  },
  {
   "cell_type": "code",
   "execution_count": 11,
   "id": "61858f55",
   "metadata": {},
   "outputs": [
    {
     "data": {
      "text/plain": [
       "[<matplotlib.lines.Line2D at 0x1a414f745b0>]"
      ]
     },
     "execution_count": 11,
     "metadata": {},
     "output_type": "execute_result"
    },
    {
     "data": {
      "image/png": "[encoded data removed]",
      "text/plain": [
       "<Figure size 432x288 with 1 Axes>"
      ]
     },
     "metadata": {
      "needs_background": "light"
     },
     "output_type": "display_data"
    }
   ],
   "source": [
    "plt.plot(res[:-1,0],dxdt,c=\"r\")\n",
    "plt.plot(res[:,0],res[:,1])"
   ]
  },
  {
   "cell_type": "code",
   "execution_count": 12,
   "id": "a9c5a60e",
   "metadata": {},
   "outputs": [],
   "source": [
    "pt = 0\n",
    "for i in dxdt:\n",
    "    if(i<0):\n",
    "        pt = np.where(dxdt==i)\n",
    "        break"
   ]
  },
  {
   "cell_type": "code",
   "execution_count": 13,
   "id": "ac39c0dd",
   "metadata": {},
   "outputs": [
    {
     "data": {
      "text/plain": [
       "15"
      ]
     },
     "execution_count": 13,
     "metadata": {},
     "output_type": "execute_result"
    }
   ],
   "source": [
    "pt[0][0]"
   ]
  },
  {
   "cell_type": "markdown",
   "id": "4b679802",
   "metadata": {},
   "source": [
    "state tau, S, P and X "
   ]
  },
  {
   "cell_type": "code",
   "execution_count": 14,
   "id": "609ae478",
   "metadata": {},
   "outputs": [
    {
     "data": {
      "text/plain": [
       "array([1.4 , 0.84, 0.08, 0.37])"
      ]
     },
     "execution_count": 14,
     "metadata": {},
     "output_type": "execute_result"
    }
   ],
   "source": [
    "stau, sS, sP, sX = res[pt[0][0]-1,0],res[pt[0][0]-1,3],res[pt[0][0]-1,2],res[pt[0][0]-1,1]\n",
    "\n",
    "np.round([stau, sS, sP, sX],2)"
   ]
  },
  {
   "cell_type": "code",
   "execution_count": 15,
   "id": "74943522",
   "metadata": {},
   "outputs": [
    {
     "data": {
      "text/plain": [
       "(1.4000000000000001,\n",
       " 0.8413113364019684,\n",
       " 0.08492300140990344,\n",
       " 0.3705695652909778)"
      ]
     },
     "execution_count": 15,
     "metadata": {},
     "output_type": "execute_result"
    }
   ],
   "source": [
    "stau, sS, sP, sX"
   ]
  },
  {
   "cell_type": "code",
   "execution_count": null,
   "id": "593dea5c",
   "metadata": {},
   "outputs": [],
   "source": []
  },
  {
   "cell_type": "code",
   "execution_count": null,
   "id": "8e0f0205",
   "metadata": {},
   "outputs": [],
   "source": []
  }
 ],
 "metadata": {
  "kernelspec": {
   "display_name": "Python 3.10.6 64-bit",
   "language": "python",
   "name": "python3"
  },
  "language_info": {
   "codemirror_mode": {
    "name": "ipython",
    "version": 3
   },
   "file_extension": ".py",
   "mimetype": "text/x-python",
   "name": "python",
   "nbconvert_exporter": "python",
   "pygments_lexer": "ipython3",
   "version": "3.10.6"
  },
  "vscode": {
   "interpreter": {
    "hash": "52634da84371cba311ea128a5ea7cdc41ff074b781779e754b270ff9f8153cee"
   }
  }
 },
 "nbformat": 4,
 "nbformat_minor": 5
}
